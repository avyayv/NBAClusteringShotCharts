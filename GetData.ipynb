{
 "cells": [
  {
   "cell_type": "code",
   "execution_count": 19,
   "metadata": {},
   "outputs": [],
   "source": [
    "import requests\n",
    "import json\n",
    "headers = {\n",
    "    'Accept-Encoding': 'gzip, deflate, sdch',\n",
    "    'Accept-Language': 'en-US,en;q=0.8,ru;q=0.6',\n",
    "    'User-Agent': 'Mozilla/5.0 (Macintosh; Intel Mac OS X 10_11_2) AppleWebKit/537.36 (KHTML, like Gecko) Chrome/58.0.3029.110 Safari/537.36',\n",
    "    'Referer': 'https://stats.nba.com',\n",
    "    'x-nba-stats-origin': 'stats',\n",
    "    'x-nba-stats-token': 'true'\n",
    "}\n",
    "locations = {\n",
    "    \"Mid-Range\": ['L', 'R', 'C', 'RC', 'LC'], \n",
    "    \"Above the Break 3\": ['C', 'RC', 'LC'], \n",
    "    \"Restricted Area\": ['C'], \n",
    "    \"Corner 3\": ['R', 'L'], \n",
    "    \"In The Paint (Non-RA)\": ['R', 'L','C']\n",
    "}\n",
    "tracking_nba_data_url = 'https://stats.nba.com/stats/leaguedashptstats?College=&Conference=&Country=&DateFrom=&DateTo=&Division=&DraftPick=&DraftYear=&GameScope=&Height=&LastNGames=0&LeagueID=00&Location=&Month=0&OpponentTeamID=0&Outcome=&PORound=0&PerMode=PerGame&PlayerExperience=&PlayerOrTeam=Player&PlayerPosition=&PtMeasureType=%s&Season=%s&SeasonSegment=&SeasonType=Regular+Season&StarterBench=&TeamID=0&VsConference=&VsDivision=&Weight='\n",
    "nba_data_url = 'https://stats.nba.com/stats/leaguedashplayerstats?College=&Conference=&Country=&DateFrom=&DateTo=&Division=&DraftPick=&DraftYear=&GameScope=&GameSegment=&Height=&LastNGames=0&LeagueID=00&Location=&MeasureType=%s&Month=0&OpponentTeamID=0&Outcome=&PORound=0&PaceAdjust=N&PerMode=PerGame&Period=0&PlayerExperience=&PlayerPosition=&PlusMinus=N&Rank=N&Season=%s&SeasonSegment=&SeasonType=Regular+Season&ShotClockRange=&StarterBench=&TeamID=0&TwoWay=0&VsConference=&VsDivision=&Weight='\n",
    "shot_chart_url = 'https://stats.nba.com/stats/shotchartdetail?AheadBehind=&CFID=33&CFPARAMS=%s&ClutchTime=&Conference=&ContextFilter=&ContextMeasure=FGA&DateFrom=&DateTo=&Division=&EndPeriod=10&EndRange=28800&GROUP_ID=&GameEventID=&GameID=&GameSegment=&GroupID=&GroupMode=&GroupQuantity=5&LastNGames=0&LeagueID=00&Location=&Month=0&OnOff=&OpponentTeamID=%s&Outcome=&PORound=0&Period=0&PlayerID=0&PlayerID1=&PlayerID2=&PlayerID3=&PlayerID4=&PlayerID5=&PlayerPosition=&PointDiff=&Position=&RangeType=0&RookieYear=&Season=%s&SeasonSegment=&SeasonType=Regular+Season&ShotClockRange=&StartPeriod=1&StartRange=0&StarterBench=&TeamID=0&VsConference=&VsDivision=&VsPlayerID1=&VsPlayerID2=&VsPlayerID3=&VsPlayerID4=&VsPlayerID5=&VsTeamID='"
   ]
  },
  {
   "cell_type": "code",
   "execution_count": 2,
   "metadata": {},
   "outputs": [],
   "source": [
    "def get_shots_from_seasons(seasons, fname):  \n",
    "    shots = []\n",
    "    for season in seasons:\n",
    "        for team in teams:\n",
    "            team_json = requests.get(shot_chart_url % (season,team,season), headers=headers).json()\n",
    "            shot_for_team = (team_json['resultSets'][0]['rowSet'])\n",
    "            shots.extend(shot_for_team)\n",
    "    shots = np.array(shots)\n",
    "    print(shots[0])\n",
    "    np.savetxt(fname, shots, delimiter=\",\", fmt='%s')"
   ]
  },
  {
   "cell_type": "code",
   "execution_count": 3,
   "metadata": {},
   "outputs": [],
   "source": [
    "def get_ids():\n",
    "    teams = []\n",
    "    teams_lot_of_info = json.loads(open('teams.json', 'r').read())\n",
    "    for team in teams_lot_of_info:\n",
    "        teams.append(team['teamId'])\n",
    "    return teams "
   ]
  },
  {
   "cell_type": "code",
   "execution_count": 4,
   "metadata": {},
   "outputs": [],
   "source": [
    "teams = get_ids()"
   ]
  },
  {
   "cell_type": "markdown",
   "metadata": {},
   "source": [
    "### To get shots for a certain season you can run the function get_shots_from_seasons, like so."
   ]
  },
  {
   "cell_type": "code",
   "execution_count": null,
   "metadata": {},
   "outputs": [],
   "source": [
    "get_shots_from_seasons([\"2019-20\"], \"rn.csv\")"
   ]
  },
  {
   "cell_type": "code",
   "execution_count": null,
   "metadata": {},
   "outputs": [],
   "source": [
    "get_shots_from_seasons([\"2016-17\", \"2017-18\", \"2018-19\"], \"recent.csv\")"
   ]
  },
  {
   "cell_type": "code",
   "execution_count": null,
   "metadata": {},
   "outputs": [],
   "source": [
    "get_shots_from_seasons([\"2008-09\", \"2009-10\", \"2010-11\"], \"mid.csv\")"
   ]
  },
  {
   "cell_type": "code",
   "execution_count": null,
   "metadata": {},
   "outputs": [],
   "source": [
    "get_shots_from_seasons([\"1999-00\", \"2000-01\", \"2001-02\"], \"old.csv\")"
   ]
  },
  {
   "cell_type": "code",
   "execution_count": 22,
   "metadata": {},
   "outputs": [],
   "source": [
    "def get_player_data(type_of,seasons):\n",
    "    for season in seasons:\n",
    "        print(type_of, season)\n",
    "        url_to_download = nba_data_url % (type_of, season)\n",
    "        json_req = requests.get(url_to_download, headers=headers).json()\n",
    "        first,second = season.split('-')\n",
    "        first = str(first[-2:])\n",
    "        filename = first+second+'.json'\n",
    "        with open(type_of.lower()+'/' + filename, 'w') as outfile:\n",
    "            json.dump(json_req, outfile)"
   ]
  },
  {
   "cell_type": "code",
   "execution_count": null,
   "metadata": {},
   "outputs": [],
   "source": [
    "#make sure that the directories currentfilepath/base/ and currentfilepath/advanced/ exist\n",
    "get_player_data('Base', [\"1999-00\", \"2000-01\", \"2001-02\", \"2008-09\", \"2009-10\", \"2010-11\", \"2016-17\", \"2017-18\", \"2018-19\"])"
   ]
  },
  {
   "cell_type": "code",
   "execution_count": null,
   "metadata": {},
   "outputs": [],
   "source": [
    "#make sure that the directories currentfilepath/base/ and currentfilepath/advanced/ exist\n",
    "get_player_data('Advanced', [\"1999-00\", \"2000-01\", \"2001-02\", \"2008-09\", \"2009-10\", \"2010-11\", \"2016-17\", \"2017-18\", \"2018-19\"])"
   ]
  },
  {
   "cell_type": "code",
   "execution_count": 23,
   "metadata": {},
   "outputs": [],
   "source": [
    "def get_player_tracking_data(type_of,seasons):\n",
    "    for season in seasons:\n",
    "        print(type_of, season)\n",
    "        url_to_download = tracking_nba_data_url % (type_of, season)\n",
    "        json_req = requests.get(url_to_download, headers=headers).json()\n",
    "        first,second = season.split('-')\n",
    "        first = str(first[-2:])\n",
    "        filename = first+second+'.json'\n",
    "        with open(type_of.lower()+'/' + filename, 'w') as outfile:\n",
    "            json.dump(json_req, outfile)"
   ]
  },
  {
   "cell_type": "code",
   "execution_count": 25,
   "metadata": {},
   "outputs": [
    {
     "name": "stdout",
     "output_type": "stream",
     "text": [
      "Drives 1999-00\n",
      "Drives 2000-01\n",
      "Drives 2001-02\n",
      "Drives 2008-09\n",
      "Drives 2009-10\n",
      "Drives 2010-11\n",
      "Drives 2016-17\n",
      "Drives 2017-18\n",
      "Drives 2018-19\n"
     ]
    }
   ],
   "source": [
    "get_player_tracking_data('Drives', [\"1999-00\", \"2000-01\", \"2001-02\", \"2008-09\", \"2009-10\", \"2010-11\", \"2016-17\", \"2017-18\", \"2018-19\"])"
   ]
  },
  {
   "cell_type": "code",
   "execution_count": 26,
   "metadata": {},
   "outputs": [
    {
     "name": "stdout",
     "output_type": "stream",
     "text": [
      "Passing 1999-00\n",
      "Passing 2000-01\n",
      "Passing 2001-02\n",
      "Passing 2008-09\n",
      "Passing 2009-10\n",
      "Passing 2010-11\n",
      "Passing 2016-17\n",
      "Passing 2017-18\n",
      "Passing 2018-19\n"
     ]
    }
   ],
   "source": [
    "get_player_tracking_data('Passing', [\"1999-00\", \"2000-01\", \"2001-02\", \"2008-09\", \"2009-10\", \"2010-11\", \"2016-17\", \"2017-18\", \"2018-19\"])"
   ]
  },
  {
   "cell_type": "code",
   "execution_count": 28,
   "metadata": {},
   "outputs": [
    {
     "name": "stdout",
     "output_type": "stream",
     "text": [
      "Rebounding 1999-00\n",
      "Rebounding 2000-01\n",
      "Rebounding 2001-02\n",
      "Rebounding 2008-09\n",
      "Rebounding 2009-10\n",
      "Rebounding 2010-11\n",
      "Rebounding 2016-17\n",
      "Rebounding 2017-18\n",
      "Rebounding 2018-19\n"
     ]
    }
   ],
   "source": [
    "get_player_tracking_data('Rebounding', [\"1999-00\", \"2000-01\", \"2001-02\", \"2008-09\", \"2009-10\", \"2010-11\", \"2016-17\", \"2017-18\", \"2018-19\"])"
   ]
  },
  {
   "cell_type": "code",
   "execution_count": null,
   "metadata": {},
   "outputs": [],
   "source": []
  }
 ],
 "metadata": {
  "kernelspec": {
   "display_name": "Python 3",
   "language": "python",
   "name": "python3"
  },
  "language_info": {
   "codemirror_mode": {
    "name": "ipython",
    "version": 3
   },
   "file_extension": ".py",
   "mimetype": "text/x-python",
   "name": "python",
   "nbconvert_exporter": "python",
   "pygments_lexer": "ipython3",
   "version": "3.6.3"
  }
 },
 "nbformat": 4,
 "nbformat_minor": 2
}
