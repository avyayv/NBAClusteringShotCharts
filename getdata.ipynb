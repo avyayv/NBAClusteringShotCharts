{
 "cells": [
  {
   "cell_type": "code",
   "execution_count": 6,
   "metadata": {},
   "outputs": [],
   "source": [
    "import requests\n",
    "import json\n",
    "\n",
    "headers = {\n",
    "    'Accept-Encoding': 'gzip, deflate, sdch',\n",
    "    'Accept-Language': 'en-US,en;q=0.8,ru;q=0.6',\n",
    "    'User-Agent': 'Mozilla/5.0 (Macintosh; Intel Mac OS X 10_11_2) AppleWebKit/537.36 (KHTML, like Gecko) Chrome/58.0.3029.110 Safari/537.36',\n",
    "    'Referer': 'https://stats.nba.com'\n",
    "}\n",
    "locations = {\n",
    "    \"Mid-Range\": ['L', 'R', 'C', 'RC', 'LC'], \n",
    "    \"Above the Break 3\": ['C', 'RC', 'LC'], \n",
    "    \"Restricted Area\": ['C'], \n",
    "    \"Corner 3\": ['R', 'L'], \n",
    "    \"In The Paint (Non-RA)\": ['R', 'L','C']\n",
    "}\n",
    "nba_data_url = 'https://stats.nba.com/stats/leaguedashplayerstats?College=&Conference=&Country=&DateFrom=&DateTo=&Division=&DraftPick=&DraftYear=&GameScope=&GameSegment=&Height=&LastNGames=0&LeagueID=00&Location=&MeasureType=%s&Month=0&OpponentTeamID=0&Outcome=&PORound=0&PaceAdjust=N&PerMode=PerGame&Period=0&PlayerExperience=&PlayerPosition=&PlusMinus=N&Rank=N&Season=%s&SeasonSegment=&SeasonType=Regular+Season&ShotClockRange=&StarterBench=&TeamID=0&TwoWay=0&VsConference=&VsDivision=&Weight='\n",
    "shot_chart_url = 'https://stats.nba.com/stats/shotchartdetail?AheadBehind=&CFID=33&CFPARAMS=%s&ClutchTime=&Conference=&ContextFilter=&ContextMeasure=FGA&DateFrom=&DateTo=&Division=&EndPeriod=10&EndRange=28800&GROUP_ID=&GameEventID=&GameID=&GameSegment=&GroupID=&GroupMode=&GroupQuantity=5&LastNGames=0&LeagueID=00&Location=&Month=0&OnOff=&OpponentTeamID=%s&Outcome=&PORound=0&Period=0&PlayerID=0&PlayerID1=&PlayerID2=&PlayerID3=&PlayerID4=&PlayerID5=&PlayerPosition=&PointDiff=&Position=&RangeType=0&RookieYear=&Season=%s&SeasonSegment=&SeasonType=Regular+Season&ShotClockRange=&StartPeriod=1&StartRange=0&StarterBench=&TeamID=0&VsConference=&VsDivision=&VsPlayerID1=&VsPlayerID2=&VsPlayerID3=&VsPlayerID4=&VsPlayerID5=&VsTeamID='"
   ]
  },
  {
   "cell_type": "code",
   "execution_count": 7,
   "metadata": {},
   "outputs": [],
   "source": [
    "def get_shots_from_seasons(seasons, fname):  \n",
    "    shots = []\n",
    "    for season in seasons:\n",
    "        for team in teams:\n",
    "            team_json = requests.get(shot_chart_url % (season,team,season), headers=headers).json()\n",
    "            shot_for_team = (team_json['resultSets'][0]['rowSet'])\n",
    "            shots.extend(shot_for_team)\n",
    "    shots = np.array(shots)\n",
    "    print(shots[0])\n",
    "    np.savetxt(fname, shots, delimiter=\",\", fmt='%s')"
   ]
  },
  {
   "cell_type": "code",
   "execution_count": 8,
   "metadata": {},
   "outputs": [],
   "source": [
    "def get_ids():\n",
    "    teams = []\n",
    "    teams_lot_of_info = json.loads(open('teams.json', 'r').read())\n",
    "    for team in teams_lot_of_info:\n",
    "        teams.append(team['teamId'])\n",
    "    return teams "
   ]
  },
  {
   "cell_type": "code",
   "execution_count": 5,
   "metadata": {},
   "outputs": [],
   "source": [
    "teams = get_ids()"
   ]
  },
  {
   "cell_type": "code",
   "execution_count": null,
   "metadata": {},
   "outputs": [],
   "source": [
    "get_shots_from_seasons([\"2016-17\", \"2017-18\", \"2018-19\"], \"recent.csv\")"
   ]
  },
  {
   "cell_type": "code",
   "execution_count": null,
   "metadata": {},
   "outputs": [],
   "source": [
    "get_shots_from_seasons([\"2008-09\", \"2009-10\", \"2010-11\"], \"mid.csv\")"
   ]
  },
  {
   "cell_type": "code",
   "execution_count": null,
   "metadata": {},
   "outputs": [],
   "source": [
    "get_shots_from_seasons([\"1999-00\", \"2000-01\", \"2001-02\"], \"old.csv\")"
   ]
  },
  {
   "cell_type": "code",
   "execution_count": 4,
   "metadata": {},
   "outputs": [],
   "source": [
    "def get_player_data(type_of,seasons):\n",
    "    for season in seasons:\n",
    "        print(type_of, season)\n",
    "        url_to_download = nba_data_url % (type_of, season)\n",
    "        json_req = requests.get(url_to_download, headers=headers).json()\n",
    "        with open(season + ' ' + type_of + '.json', 'w') as outfile:\n",
    "            json.dump(json_req, outfile)"
   ]
  },
  {
   "cell_type": "code",
   "execution_count": null,
   "metadata": {},
   "outputs": [],
   "source": [
    "get_player_data('Base', [\"1999-00\", \"2000-01\", \"2001-02\", \"2008-09\", \"2009-10\", \"2010-11\", \"2016-17\", \"2017-18\", \"2018-19\"])"
   ]
  },
  {
   "cell_type": "code",
   "execution_count": 14,
   "metadata": {},
   "outputs": [
    {
     "name": "stdout",
     "output_type": "stream",
     "text": [
      "Advanced 1999-00\n",
      "Advanced 2000-01\n",
      "Advanced 2001-02\n",
      "Advanced 2008-09\n",
      "Advanced 2009-10\n",
      "Advanced 2010-11\n",
      "Advanced 2016-17\n",
      "Advanced 2017-18\n",
      "Advanced 2018-19\n"
     ]
    }
   ],
   "source": [
    "get_player_data('Advanced', [\"1999-00\", \"2000-01\", \"2001-02\", \"2008-09\", \"2009-10\", \"2010-11\", \"2016-17\", \"2017-18\", \"2018-19\"])"
   ]
  },
  {
   "cell_type": "code",
   "execution_count": 10,
   "metadata": {},
   "outputs": [
    {
     "name": "stdout",
     "output_type": "stream",
     "text": [
      "Base 2019-20\n",
      "Advanced 2019-20\n"
     ]
    }
   ],
   "source": [
    "get_player_data('Base', [\"2019-20\"])\n",
    "get_player_data('Advanced', [\"2019-20\"])"
   ]
  },
  {
   "cell_type": "code",
   "execution_count": null,
   "metadata": {},
   "outputs": [],
   "source": []
  }
 ],
 "metadata": {
  "kernelspec": {
   "display_name": "Python 3",
   "language": "python",
   "name": "python3"
  },
  "language_info": {
   "codemirror_mode": {
    "name": "ipython",
    "version": 3
   },
   "file_extension": ".py",
   "mimetype": "text/x-python",
   "name": "python",
   "nbconvert_exporter": "python",
   "pygments_lexer": "ipython3",
   "version": "3.6.3"
  }
 },
 "nbformat": 4,
 "nbformat_minor": 2
}
